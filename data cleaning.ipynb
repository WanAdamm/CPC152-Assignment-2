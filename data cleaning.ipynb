{
 "cells": [
  {
   "cell_type": "code",
   "execution_count": 1,
   "metadata": {},
   "outputs": [],
   "source": [
    "import pandas as pd\n",
    "import numpy as np"
   ]
  },
  {
   "cell_type": "markdown",
   "metadata": {},
   "source": [
    "### Basic Dataset Info"
   ]
  },
  {
   "cell_type": "code",
   "execution_count": 2,
   "metadata": {},
   "outputs": [],
   "source": [
    "df = pd.read_csv('adult.csv')"
   ]
  },
  {
   "cell_type": "code",
   "execution_count": 3,
   "metadata": {},
   "outputs": [
    {
     "name": "stdout",
     "output_type": "stream",
     "text": [
      "<class 'pandas.core.frame.DataFrame'>\n",
      "RangeIndex: 48842 entries, 0 to 48841\n",
      "Data columns (total 15 columns):\n",
      " #   Column           Non-Null Count  Dtype \n",
      "---  ------           --------------  ----- \n",
      " 0   age              48842 non-null  int64 \n",
      " 1   workclass        48842 non-null  object\n",
      " 2   fnlwgt           48842 non-null  int64 \n",
      " 3   education        48842 non-null  object\n",
      " 4   educational-num  48842 non-null  int64 \n",
      " 5   marital-status   48842 non-null  object\n",
      " 6   occupation       48842 non-null  object\n",
      " 7   relationship     48842 non-null  object\n",
      " 8   race             48842 non-null  object\n",
      " 9   gender           48842 non-null  object\n",
      " 10  capital-gain     48842 non-null  int64 \n",
      " 11  capital-loss     48842 non-null  int64 \n",
      " 12  hours-per-week   48842 non-null  int64 \n",
      " 13  native-country   48842 non-null  object\n",
      " 14  income           48842 non-null  object\n",
      "dtypes: int64(6), object(9)\n",
      "memory usage: 5.6+ MB\n"
     ]
    }
   ],
   "source": [
    "df.info()"
   ]
  },
  {
   "cell_type": "code",
   "execution_count": 4,
   "metadata": {},
   "outputs": [
    {
     "data": {
      "text/plain": [
       "(48842, 15)"
      ]
     },
     "execution_count": 4,
     "metadata": {},
     "output_type": "execute_result"
    }
   ],
   "source": [
    "df.shape"
   ]
  },
  {
   "cell_type": "code",
   "execution_count": 5,
   "metadata": {},
   "outputs": [
    {
     "data": {
      "text/html": [
       "<div>\n",
       "<style scoped>\n",
       "    .dataframe tbody tr th:only-of-type {\n",
       "        vertical-align: middle;\n",
       "    }\n",
       "\n",
       "    .dataframe tbody tr th {\n",
       "        vertical-align: top;\n",
       "    }\n",
       "\n",
       "    .dataframe thead th {\n",
       "        text-align: right;\n",
       "    }\n",
       "</style>\n",
       "<table border=\"1\" class=\"dataframe\">\n",
       "  <thead>\n",
       "    <tr style=\"text-align: right;\">\n",
       "      <th></th>\n",
       "      <th>age</th>\n",
       "      <th>workclass</th>\n",
       "      <th>fnlwgt</th>\n",
       "      <th>education</th>\n",
       "      <th>educational-num</th>\n",
       "      <th>marital-status</th>\n",
       "      <th>occupation</th>\n",
       "      <th>relationship</th>\n",
       "      <th>race</th>\n",
       "      <th>gender</th>\n",
       "      <th>capital-gain</th>\n",
       "      <th>capital-loss</th>\n",
       "      <th>hours-per-week</th>\n",
       "      <th>native-country</th>\n",
       "      <th>income</th>\n",
       "    </tr>\n",
       "  </thead>\n",
       "  <tbody>\n",
       "    <tr>\n",
       "      <th>0</th>\n",
       "      <td>25</td>\n",
       "      <td>Private</td>\n",
       "      <td>226802</td>\n",
       "      <td>11th</td>\n",
       "      <td>7</td>\n",
       "      <td>Never-married</td>\n",
       "      <td>Machine-op-inspct</td>\n",
       "      <td>Own-child</td>\n",
       "      <td>Black</td>\n",
       "      <td>Male</td>\n",
       "      <td>0</td>\n",
       "      <td>0</td>\n",
       "      <td>40</td>\n",
       "      <td>United-States</td>\n",
       "      <td>&lt;=50K</td>\n",
       "    </tr>\n",
       "    <tr>\n",
       "      <th>1</th>\n",
       "      <td>38</td>\n",
       "      <td>Private</td>\n",
       "      <td>89814</td>\n",
       "      <td>HS-grad</td>\n",
       "      <td>9</td>\n",
       "      <td>Married-civ-spouse</td>\n",
       "      <td>Farming-fishing</td>\n",
       "      <td>Husband</td>\n",
       "      <td>White</td>\n",
       "      <td>Male</td>\n",
       "      <td>0</td>\n",
       "      <td>0</td>\n",
       "      <td>50</td>\n",
       "      <td>United-States</td>\n",
       "      <td>&lt;=50K</td>\n",
       "    </tr>\n",
       "    <tr>\n",
       "      <th>2</th>\n",
       "      <td>28</td>\n",
       "      <td>Local-gov</td>\n",
       "      <td>336951</td>\n",
       "      <td>Assoc-acdm</td>\n",
       "      <td>12</td>\n",
       "      <td>Married-civ-spouse</td>\n",
       "      <td>Protective-serv</td>\n",
       "      <td>Husband</td>\n",
       "      <td>White</td>\n",
       "      <td>Male</td>\n",
       "      <td>0</td>\n",
       "      <td>0</td>\n",
       "      <td>40</td>\n",
       "      <td>United-States</td>\n",
       "      <td>&gt;50K</td>\n",
       "    </tr>\n",
       "    <tr>\n",
       "      <th>3</th>\n",
       "      <td>44</td>\n",
       "      <td>Private</td>\n",
       "      <td>160323</td>\n",
       "      <td>Some-college</td>\n",
       "      <td>10</td>\n",
       "      <td>Married-civ-spouse</td>\n",
       "      <td>Machine-op-inspct</td>\n",
       "      <td>Husband</td>\n",
       "      <td>Black</td>\n",
       "      <td>Male</td>\n",
       "      <td>7688</td>\n",
       "      <td>0</td>\n",
       "      <td>40</td>\n",
       "      <td>United-States</td>\n",
       "      <td>&gt;50K</td>\n",
       "    </tr>\n",
       "    <tr>\n",
       "      <th>4</th>\n",
       "      <td>18</td>\n",
       "      <td>?</td>\n",
       "      <td>103497</td>\n",
       "      <td>Some-college</td>\n",
       "      <td>10</td>\n",
       "      <td>Never-married</td>\n",
       "      <td>?</td>\n",
       "      <td>Own-child</td>\n",
       "      <td>White</td>\n",
       "      <td>Female</td>\n",
       "      <td>0</td>\n",
       "      <td>0</td>\n",
       "      <td>30</td>\n",
       "      <td>United-States</td>\n",
       "      <td>&lt;=50K</td>\n",
       "    </tr>\n",
       "  </tbody>\n",
       "</table>\n",
       "</div>"
      ],
      "text/plain": [
       "   age  workclass  fnlwgt     education  educational-num      marital-status  \\\n",
       "0   25    Private  226802          11th                7       Never-married   \n",
       "1   38    Private   89814       HS-grad                9  Married-civ-spouse   \n",
       "2   28  Local-gov  336951    Assoc-acdm               12  Married-civ-spouse   \n",
       "3   44    Private  160323  Some-college               10  Married-civ-spouse   \n",
       "4   18          ?  103497  Some-college               10       Never-married   \n",
       "\n",
       "          occupation relationship   race  gender  capital-gain  capital-loss  \\\n",
       "0  Machine-op-inspct    Own-child  Black    Male             0             0   \n",
       "1    Farming-fishing      Husband  White    Male             0             0   \n",
       "2    Protective-serv      Husband  White    Male             0             0   \n",
       "3  Machine-op-inspct      Husband  Black    Male          7688             0   \n",
       "4                  ?    Own-child  White  Female             0             0   \n",
       "\n",
       "   hours-per-week native-country income  \n",
       "0              40  United-States  <=50K  \n",
       "1              50  United-States  <=50K  \n",
       "2              40  United-States   >50K  \n",
       "3              40  United-States   >50K  \n",
       "4              30  United-States  <=50K  "
      ]
     },
     "execution_count": 5,
     "metadata": {},
     "output_type": "execute_result"
    }
   ],
   "source": [
    "df.head()"
   ]
  },
  {
   "cell_type": "markdown",
   "metadata": {},
   "source": [
    "### Checking for null"
   ]
  },
  {
   "cell_type": "code",
   "execution_count": 6,
   "metadata": {},
   "outputs": [
    {
     "data": {
      "text/plain": [
       "workclass\n",
       "Private             33906\n",
       "Self-emp-not-inc     3862\n",
       "Local-gov            3136\n",
       "?                    2799\n",
       "State-gov            1981\n",
       "Self-emp-inc         1695\n",
       "Federal-gov          1432\n",
       "Without-pay            21\n",
       "Never-worked           10\n",
       "Name: count, dtype: int64"
      ]
     },
     "execution_count": 6,
     "metadata": {},
     "output_type": "execute_result"
    }
   ],
   "source": [
    "df['workclass'].value_counts()"
   ]
  },
  {
   "cell_type": "code",
   "execution_count": 7,
   "metadata": {},
   "outputs": [
    {
     "data": {
      "text/plain": [
       "occupation\n",
       "Prof-specialty       6172\n",
       "Craft-repair         6112\n",
       "Exec-managerial      6086\n",
       "Adm-clerical         5611\n",
       "Sales                5504\n",
       "Other-service        4923\n",
       "Machine-op-inspct    3022\n",
       "?                    2809\n",
       "Transport-moving     2355\n",
       "Handlers-cleaners    2072\n",
       "Farming-fishing      1490\n",
       "Tech-support         1446\n",
       "Protective-serv       983\n",
       "Priv-house-serv       242\n",
       "Armed-Forces           15\n",
       "Name: count, dtype: int64"
      ]
     },
     "execution_count": 7,
     "metadata": {},
     "output_type": "execute_result"
    }
   ],
   "source": [
    "df['occupation'].value_counts()"
   ]
  },
  {
   "cell_type": "code",
   "execution_count": 8,
   "metadata": {},
   "outputs": [
    {
     "name": "stdout",
     "output_type": "stream",
     "text": [
      "[25 38 28 44 18 34 29 63 24 55 65 36 26 58 48 43 20 37 40 72 45 22 23 54\n",
      " 32 46 56 17 39 52 21 42 33 30 47 41 19 69 50 31 59 49 51 27 57 61 64 79\n",
      " 73 53 77 80 62 35 68 66 75 60 67 71 70 90 81 74 78 82 83 85 76 84 89 88\n",
      " 87 86]\n",
      "['Private' 'Local-gov' '?' 'Self-emp-not-inc' 'Federal-gov' 'State-gov'\n",
      " 'Self-emp-inc' 'Without-pay' 'Never-worked']\n",
      "[226802  89814 336951 ... 129912 255835 257302]\n",
      "['11th' 'HS-grad' 'Assoc-acdm' 'Some-college' '10th' 'Prof-school'\n",
      " '7th-8th' 'Bachelors' 'Masters' 'Doctorate' '5th-6th' 'Assoc-voc' '9th'\n",
      " '12th' '1st-4th' 'Preschool']\n",
      "[ 7  9 12 10  6 15  4 13 14 16  3 11  5  8  2  1]\n",
      "['Never-married' 'Married-civ-spouse' 'Widowed' 'Divorced' 'Separated'\n",
      " 'Married-spouse-absent' 'Married-AF-spouse']\n",
      "['Machine-op-inspct' 'Farming-fishing' 'Protective-serv' '?'\n",
      " 'Other-service' 'Prof-specialty' 'Craft-repair' 'Adm-clerical'\n",
      " 'Exec-managerial' 'Tech-support' 'Sales' 'Priv-house-serv'\n",
      " 'Transport-moving' 'Handlers-cleaners' 'Armed-Forces']\n",
      "['Own-child' 'Husband' 'Not-in-family' 'Unmarried' 'Wife' 'Other-relative']\n",
      "['Black' 'White' 'Asian-Pac-Islander' 'Other' 'Amer-Indian-Eskimo']\n",
      "['Male' 'Female']\n",
      "[    0  7688  3103  6418  7298  3908 14084  5178 15024 99999  2597  2907\n",
      "  4650  6497  1055  5013 27828  4934  4064  3674  2174 10605  3418   114\n",
      "  2580  3411  4508  4386  8614 13550  6849  2463  3137  2885  2964  1471\n",
      " 10566  2354  1424  1455  3325  4416 25236   594  2105  4787  2829   401\n",
      "  4865  1264  1506 10520  3464  2653 20051  4101  1797  2407  3471  1086\n",
      "  1848 14344  1151  2993  2290 15020  9386  2202  3818  2176  5455 11678\n",
      "  7978  7262  6514 41310  3456  7430  2414  2062 34095  1831  6723  5060\n",
      " 15831  2977  2346  3273  2329  9562  2635  4931  1731  6097   914  7896\n",
      "  5556  1409  3781  3942  2538  3887 25124  7443  5721  1173  4687  6612\n",
      "  6767  2961   991  2036  2936  2050  1111  2228 22040  3432  6360  2009\n",
      "  1639 18481  2387]\n",
      "[   0 1721 1876 2415 1887  625 1977 2057 1429 1590 1485 2051 2377 1672\n",
      " 1628 1902 1602 1741 2444 1408 2001 2042 1740 1825 1848 1719 3004 2179\n",
      " 1573 2205 1258 2339 1726 2258 1340 1504 2559 1668 1974 1980 1564 2547\n",
      " 2002 1669 1617  323 3175 2472 2174 1579 2129 1510 1735 2282 1870 1411\n",
      " 1911 1651 1092 1762 2457 2231 2238  653 1138 2246 2603 2392 1944 1380\n",
      " 2465 1421 3770 1594  213 2149 2824 1844 2467 2163 1816 1648 2206 2352\n",
      "  419 1539  880  810  974 4356 2489 1755 3683 2267 2080  155 3900 2201\n",
      " 2754]\n",
      "[40 50 30 32 10 39 35 48 25 20 45 47  6 43 90 54 60 38 36 18 24 44 56 28\n",
      " 16 41 22 55 14 33 37  8 12 70 15 75 52 84 42 80 68 99 65  5 17 72 53 29\n",
      " 96 21 46  3  1 23 49 67 76  7  2 58 26 34  4 51 78 63 31 92 77 27 85 13\n",
      " 19 98 62 66 57 11 86 59  9 64 73 61 88 79 89 74 69 87 97 94 82 91 81 95]\n",
      "['United-States' '?' 'Peru' 'Guatemala' 'Mexico' 'Dominican-Republic'\n",
      " 'Ireland' 'Germany' 'Philippines' 'Thailand' 'Haiti' 'El-Salvador'\n",
      " 'Puerto-Rico' 'Vietnam' 'South' 'Columbia' 'Japan' 'India' 'Cambodia'\n",
      " 'Poland' 'Laos' 'England' 'Cuba' 'Taiwan' 'Italy' 'Canada' 'Portugal'\n",
      " 'China' 'Nicaragua' 'Honduras' 'Iran' 'Scotland' 'Jamaica' 'Ecuador'\n",
      " 'Yugoslavia' 'Hungary' 'Hong' 'Greece' 'Trinadad&Tobago'\n",
      " 'Outlying-US(Guam-USVI-etc)' 'France' 'Holand-Netherlands']\n",
      "['<=50K' '>50K']\n"
     ]
    }
   ],
   "source": [
    "for column in df.columns:\n",
    "    print(df[column].unique())"
   ]
  },
  {
   "cell_type": "code",
   "execution_count": 9,
   "metadata": {},
   "outputs": [
    {
     "data": {
      "text/html": [
       "<div>\n",
       "<style scoped>\n",
       "    .dataframe tbody tr th:only-of-type {\n",
       "        vertical-align: middle;\n",
       "    }\n",
       "\n",
       "    .dataframe tbody tr th {\n",
       "        vertical-align: top;\n",
       "    }\n",
       "\n",
       "    .dataframe thead th {\n",
       "        text-align: right;\n",
       "    }\n",
       "</style>\n",
       "<table border=\"1\" class=\"dataframe\">\n",
       "  <thead>\n",
       "    <tr style=\"text-align: right;\">\n",
       "      <th></th>\n",
       "      <th>age</th>\n",
       "      <th>fnlwgt</th>\n",
       "      <th>educational-num</th>\n",
       "      <th>capital-gain</th>\n",
       "      <th>capital-loss</th>\n",
       "      <th>hours-per-week</th>\n",
       "    </tr>\n",
       "  </thead>\n",
       "  <tbody>\n",
       "    <tr>\n",
       "      <th>count</th>\n",
       "      <td>48842.000000</td>\n",
       "      <td>4.884200e+04</td>\n",
       "      <td>48842.000000</td>\n",
       "      <td>48842.000000</td>\n",
       "      <td>48842.000000</td>\n",
       "      <td>48842.000000</td>\n",
       "    </tr>\n",
       "    <tr>\n",
       "      <th>mean</th>\n",
       "      <td>38.643585</td>\n",
       "      <td>1.896641e+05</td>\n",
       "      <td>10.078089</td>\n",
       "      <td>1079.067626</td>\n",
       "      <td>87.502314</td>\n",
       "      <td>40.422382</td>\n",
       "    </tr>\n",
       "    <tr>\n",
       "      <th>std</th>\n",
       "      <td>13.710510</td>\n",
       "      <td>1.056040e+05</td>\n",
       "      <td>2.570973</td>\n",
       "      <td>7452.019058</td>\n",
       "      <td>403.004552</td>\n",
       "      <td>12.391444</td>\n",
       "    </tr>\n",
       "    <tr>\n",
       "      <th>min</th>\n",
       "      <td>17.000000</td>\n",
       "      <td>1.228500e+04</td>\n",
       "      <td>1.000000</td>\n",
       "      <td>0.000000</td>\n",
       "      <td>0.000000</td>\n",
       "      <td>1.000000</td>\n",
       "    </tr>\n",
       "    <tr>\n",
       "      <th>25%</th>\n",
       "      <td>28.000000</td>\n",
       "      <td>1.175505e+05</td>\n",
       "      <td>9.000000</td>\n",
       "      <td>0.000000</td>\n",
       "      <td>0.000000</td>\n",
       "      <td>40.000000</td>\n",
       "    </tr>\n",
       "    <tr>\n",
       "      <th>50%</th>\n",
       "      <td>37.000000</td>\n",
       "      <td>1.781445e+05</td>\n",
       "      <td>10.000000</td>\n",
       "      <td>0.000000</td>\n",
       "      <td>0.000000</td>\n",
       "      <td>40.000000</td>\n",
       "    </tr>\n",
       "    <tr>\n",
       "      <th>75%</th>\n",
       "      <td>48.000000</td>\n",
       "      <td>2.376420e+05</td>\n",
       "      <td>12.000000</td>\n",
       "      <td>0.000000</td>\n",
       "      <td>0.000000</td>\n",
       "      <td>45.000000</td>\n",
       "    </tr>\n",
       "    <tr>\n",
       "      <th>max</th>\n",
       "      <td>90.000000</td>\n",
       "      <td>1.490400e+06</td>\n",
       "      <td>16.000000</td>\n",
       "      <td>99999.000000</td>\n",
       "      <td>4356.000000</td>\n",
       "      <td>99.000000</td>\n",
       "    </tr>\n",
       "  </tbody>\n",
       "</table>\n",
       "</div>"
      ],
      "text/plain": [
       "                age        fnlwgt  educational-num  capital-gain  \\\n",
       "count  48842.000000  4.884200e+04     48842.000000  48842.000000   \n",
       "mean      38.643585  1.896641e+05        10.078089   1079.067626   \n",
       "std       13.710510  1.056040e+05         2.570973   7452.019058   \n",
       "min       17.000000  1.228500e+04         1.000000      0.000000   \n",
       "25%       28.000000  1.175505e+05         9.000000      0.000000   \n",
       "50%       37.000000  1.781445e+05        10.000000      0.000000   \n",
       "75%       48.000000  2.376420e+05        12.000000      0.000000   \n",
       "max       90.000000  1.490400e+06        16.000000  99999.000000   \n",
       "\n",
       "       capital-loss  hours-per-week  \n",
       "count  48842.000000    48842.000000  \n",
       "mean      87.502314       40.422382  \n",
       "std      403.004552       12.391444  \n",
       "min        0.000000        1.000000  \n",
       "25%        0.000000       40.000000  \n",
       "50%        0.000000       40.000000  \n",
       "75%        0.000000       45.000000  \n",
       "max     4356.000000       99.000000  "
      ]
     },
     "execution_count": 9,
     "metadata": {},
     "output_type": "execute_result"
    }
   ],
   "source": [
    "df.describe()"
   ]
  },
  {
   "cell_type": "markdown",
   "metadata": {},
   "source": [
    "### Dropping and Filling NaN"
   ]
  },
  {
   "cell_type": "code",
   "execution_count": 10,
   "metadata": {},
   "outputs": [],
   "source": [
    "df.replace('?', np.nan, inplace= True)"
   ]
  },
  {
   "cell_type": "code",
   "execution_count": 11,
   "metadata": {},
   "outputs": [
    {
     "data": {
      "text/plain": [
       "age                   0\n",
       "workclass          2799\n",
       "fnlwgt                0\n",
       "education             0\n",
       "educational-num       0\n",
       "marital-status        0\n",
       "occupation         2809\n",
       "relationship          0\n",
       "race                  0\n",
       "gender                0\n",
       "capital-gain          0\n",
       "capital-loss          0\n",
       "hours-per-week        0\n",
       "native-country      857\n",
       "income                0\n",
       "dtype: int64"
      ]
     },
     "execution_count": 11,
     "metadata": {},
     "output_type": "execute_result"
    }
   ],
   "source": [
    "df.isna().sum()"
   ]
  },
  {
   "cell_type": "code",
   "execution_count": 12,
   "metadata": {},
   "outputs": [],
   "source": [
    "df.dropna(subset=['occupation'], inplace=True)"
   ]
  },
  {
   "cell_type": "code",
   "execution_count": 13,
   "metadata": {},
   "outputs": [
    {
     "data": {
      "text/plain": [
       "age                  0\n",
       "workclass            0\n",
       "fnlwgt               0\n",
       "education            0\n",
       "educational-num      0\n",
       "marital-status       0\n",
       "occupation           0\n",
       "relationship         0\n",
       "race                 0\n",
       "gender               0\n",
       "capital-gain         0\n",
       "capital-loss         0\n",
       "hours-per-week       0\n",
       "native-country     811\n",
       "income               0\n",
       "dtype: int64"
      ]
     },
     "execution_count": 13,
     "metadata": {},
     "output_type": "execute_result"
    }
   ],
   "source": [
    "df.isna().sum()"
   ]
  },
  {
   "cell_type": "code",
   "execution_count": 14,
   "metadata": {},
   "outputs": [],
   "source": [
    "native_country_mode = df['native-country'].mode()[0]\n",
    "df[['native-country']] = df[['native-country']].fillna(native_country_mode)"
   ]
  },
  {
   "cell_type": "code",
   "execution_count": 15,
   "metadata": {},
   "outputs": [
    {
     "data": {
      "text/plain": [
       "age                0\n",
       "workclass          0\n",
       "fnlwgt             0\n",
       "education          0\n",
       "educational-num    0\n",
       "marital-status     0\n",
       "occupation         0\n",
       "relationship       0\n",
       "race               0\n",
       "gender             0\n",
       "capital-gain       0\n",
       "capital-loss       0\n",
       "hours-per-week     0\n",
       "native-country     0\n",
       "income             0\n",
       "dtype: int64"
      ]
     },
     "execution_count": 15,
     "metadata": {},
     "output_type": "execute_result"
    }
   ],
   "source": [
    "df.isna().sum()"
   ]
  },
  {
   "cell_type": "code",
   "execution_count": 16,
   "metadata": {},
   "outputs": [],
   "source": [
    "df.to_csv('adult(no missing value).csv')"
   ]
  },
  {
   "cell_type": "markdown",
   "metadata": {},
   "source": [
    "### Checking Skewness"
   ]
  },
  {
   "cell_type": "code",
   "execution_count": 17,
   "metadata": {},
   "outputs": [],
   "source": [
    "numeric_columns = ['age', 'fnlwgt', 'educational-num', 'capital-gain', 'capital-loss', 'hours-per-week']"
   ]
  },
  {
   "cell_type": "code",
   "execution_count": 18,
   "metadata": {},
   "outputs": [
    {
     "data": {
      "text/plain": [
       "<Axes: >"
      ]
     },
     "execution_count": 18,
     "metadata": {},
     "output_type": "execute_result"
    },
    {
     "data": {
      "image/png": "[encoded data removed]",
      "text/plain": [
       "<Figure size 640x480 with 1 Axes>"
      ]
     },
     "metadata": {},
     "output_type": "display_data"
    }
   ],
   "source": [
    "df['age'].plot(kind='box')"
   ]
  },
  {
   "cell_type": "code",
   "execution_count": 19,
   "metadata": {},
   "outputs": [
    {
     "data": {
      "text/plain": [
       "<Axes: >"
      ]
     },
     "execution_count": 19,
     "metadata": {},
     "output_type": "execute_result"
    },
    {
     "data": {
      "image/png": "[encoded data removed]",
      "text/plain": [
       "<Figure size 640x480 with 1 Axes>"
      ]
     },
     "metadata": {},
     "output_type": "display_data"
    }
   ],
   "source": [
    "df['fnlwgt'].plot(kind='box')"
   ]
  },
  {
   "cell_type": "code",
   "execution_count": 20,
   "metadata": {},
   "outputs": [
    {
     "data": {
      "text/plain": [
       "<Axes: >"
      ]
     },
     "execution_count": 20,
     "metadata": {},
     "output_type": "execute_result"
    },
    {
     "data": {
      "image/png": "[encoded data removed]",
      "text/plain": [
       "<Figure size 640x480 with 1 Axes>"
      ]
     },
     "metadata": {},
     "output_type": "display_data"
    }
   ],
   "source": [
    "df['educational-num'].plot(kind=\"box\")"
   ]
  },
  {
   "cell_type": "code",
   "execution_count": 21,
   "metadata": {},
   "outputs": [
    {
     "data": {
      "text/plain": [
       "<Axes: >"
      ]
     },
     "execution_count": 21,
     "metadata": {},
     "output_type": "execute_result"
    },
    {
     "data": {
      "image/png": "[encoded data removed]",
      "text/plain": [
       "<Figure size 640x480 with 1 Axes>"
      ]
     },
     "metadata": {},
     "output_type": "display_data"
    }
   ],
   "source": [
    "df['capital-gain'].plot(kind=\"box\")"
   ]
  },
  {
   "cell_type": "code",
   "execution_count": 22,
   "metadata": {},
   "outputs": [
    {
     "data": {
      "text/plain": [
       "<Axes: >"
      ]
     },
     "execution_count": 22,
     "metadata": {},
     "output_type": "execute_result"
    },
    {
     "data": {
      "image/png": "[encoded data removed]",
      "text/plain": [
       "<Figure size 640x480 with 1 Axes>"
      ]
     },
     "metadata": {},
     "output_type": "display_data"
    }
   ],
   "source": [
    "df['capital-loss'].plot(kind=\"box\")"
   ]
  },
  {
   "cell_type": "code",
   "execution_count": 23,
   "metadata": {},
   "outputs": [
    {
     "data": {
      "text/plain": [
       "<Axes: >"
      ]
     },
     "execution_count": 23,
     "metadata": {},
     "output_type": "execute_result"
    },
    {
     "data": {
      "image/png": "[encoded data removed]",
      "text/plain": [
       "<Figure size 640x480 with 1 Axes>"
      ]
     },
     "metadata": {},
     "output_type": "display_data"
    }
   ],
   "source": [
    "df['hours-per-week'].plot(kind=\"box\")"
   ]
  },
  {
   "cell_type": "code",
   "execution_count": 24,
   "metadata": {},
   "outputs": [],
   "source": [
    "from scipy.stats import skew"
   ]
  },
  {
   "cell_type": "code",
   "execution_count": 25,
   "metadata": {},
   "outputs": [
    {
     "name": "stdout",
     "output_type": "stream",
     "text": [
      "age : 0.5342298728864318\n",
      "fnlwgt : 1.4437641538830817\n",
      "educational-num : -0.31437886492004724\n",
      "capital-gain : 11.683883725667696\n",
      "capital-loss : 4.51398103737005\n",
      "hours-per-week : 0.34107603666237274\n"
     ]
    }
   ],
   "source": [
    "for col in numeric_columns:\n",
    "    print(col + \" : \" + str(df[col].skew()))"
   ]
  },
  {
   "cell_type": "code",
   "execution_count": 26,
   "metadata": {},
   "outputs": [],
   "source": [
    "import seaborn as sns"
   ]
  },
  {
   "cell_type": "code",
   "execution_count": 27,
   "metadata": {},
   "outputs": [
    {
     "data": {
      "text/plain": [
       "<Axes: xlabel='capital-gain', ylabel='Density'>"
      ]
     },
     "execution_count": 27,
     "metadata": {},
     "output_type": "execute_result"
    },
    {
     "data": {
      "image/png": "[encoded data removed]",
      "text/plain": [
       "<Figure size 640x480 with 1 Axes>"
      ]
     },
     "metadata": {},
     "output_type": "display_data"
    }
   ],
   "source": [
    "sns.kdeplot(df['capital-gain'])"
   ]
  },
  {
   "cell_type": "code",
   "execution_count": 28,
   "metadata": {},
   "outputs": [
    {
     "data": {
      "text/plain": [
       "<Axes: xlabel='capital-loss', ylabel='Density'>"
      ]
     },
     "execution_count": 28,
     "metadata": {},
     "output_type": "execute_result"
    },
    {
     "data": {
      "image/png": "[encoded data removed]",
      "text/plain": [
       "<Figure size 640x480 with 1 Axes>"
      ]
     },
     "metadata": {},
     "output_type": "display_data"
    }
   ],
   "source": [
    "sns.kdeplot(df['capital-loss'])"
   ]
  },
  {
   "cell_type": "code",
   "execution_count": 29,
   "metadata": {},
   "outputs": [
    {
     "data": {
      "text/plain": [
       "<Axes: xlabel='hours-per-week', ylabel='Density'>"
      ]
     },
     "execution_count": 29,
     "metadata": {},
     "output_type": "execute_result"
    },
    {
     "data": {
      "image/png": "[encoded data removed]",
      "text/plain": [
       "<Figure size 640x480 with 1 Axes>"
      ]
     },
     "metadata": {},
     "output_type": "display_data"
    }
   ],
   "source": [
    "sns.kdeplot(df['hours-per-week'])"
   ]
  },
  {
   "cell_type": "markdown",
   "metadata": {},
   "source": [
    "### Fixing skewness"
   ]
  },
  {
   "cell_type": "code",
   "execution_count": 30,
   "metadata": {},
   "outputs": [],
   "source": [
    "from scipy.stats import yeojohnson\n",
    "from sklearn.preprocessing import PowerTransformer"
   ]
  },
  {
   "cell_type": "code",
   "execution_count": 31,
   "metadata": {},
   "outputs": [],
   "source": [
    "pt = PowerTransformer()"
   ]
  },
  {
   "cell_type": "code",
   "execution_count": 32,
   "metadata": {},
   "outputs": [],
   "source": [
    "features = [col for col in df.columns]\n",
    "features.remove('education')"
   ]
  },
  {
   "cell_type": "code",
   "execution_count": 33,
   "metadata": {},
   "outputs": [],
   "source": [
    "df_numeric_fixed_skew = pd.DataFrame(pt.fit_transform(df[numeric_columns]), columns=numeric_columns)"
   ]
  },
  {
   "cell_type": "code",
   "execution_count": 34,
   "metadata": {},
   "outputs": [
    {
     "name": "stdout",
     "output_type": "stream",
     "text": [
      "age : -0.01565651455872085\n",
      "fnlwgt : 0.01647279540779947\n",
      "educational-num : 0.02261938399467761\n",
      "capital-gain : 3.002449045340039\n",
      "capital-loss : 4.2611374081227265\n",
      "hours-per-week : 0.2389471068706085\n"
     ]
    }
   ],
   "source": [
    "for col in df_numeric_fixed_skew:\n",
    "    print(col + \" : \" + str(df_numeric_fixed_skew[col].skew()))"
   ]
  },
  {
   "cell_type": "markdown",
   "metadata": {},
   "source": [
    "### Encoding Object Column to Numeric"
   ]
  },
  {
   "cell_type": "code",
   "execution_count": 35,
   "metadata": {},
   "outputs": [],
   "source": [
    "from sklearn.preprocessing import LabelEncoder"
   ]
  },
  {
   "cell_type": "code",
   "execution_count": 36,
   "metadata": {},
   "outputs": [],
   "source": [
    "le = LabelEncoder()"
   ]
  },
  {
   "cell_type": "code",
   "execution_count": 37,
   "metadata": {},
   "outputs": [],
   "source": [
    "df_object = df.select_dtypes(exclude=[np.number]).reset_index()\n",
    "df_object.drop('index', inplace=True, axis = 1)"
   ]
  },
  {
   "cell_type": "code",
   "execution_count": 38,
   "metadata": {},
   "outputs": [],
   "source": [
    "object_columns = [col for col in df_object.columns]"
   ]
  },
  {
   "cell_type": "code",
   "execution_count": 39,
   "metadata": {},
   "outputs": [],
   "source": [
    "for col in df_object:\n",
    "    df_object[col] = le.fit_transform(df_object[col])"
   ]
  },
  {
   "cell_type": "markdown",
   "metadata": {},
   "source": [
    "### Concatenating and Saving all to one dataset"
   ]
  },
  {
   "cell_type": "code",
   "execution_count": 40,
   "metadata": {},
   "outputs": [],
   "source": [
    "df_cleaned = pd.merge(df_numeric_fixed_skew, df_object, left_index=True, right_index=True)"
   ]
  },
  {
   "cell_type": "code",
   "execution_count": 41,
   "metadata": {},
   "outputs": [],
   "source": [
    "df_cleaned.drop('education', inplace=True, axis = 1)"
   ]
  },
  {
   "cell_type": "code",
   "execution_count": 42,
   "metadata": {},
   "outputs": [
    {
     "data": {
      "text/html": [
       "<div>\n",
       "<style scoped>\n",
       "    .dataframe tbody tr th:only-of-type {\n",
       "        vertical-align: middle;\n",
       "    }\n",
       "\n",
       "    .dataframe tbody tr th {\n",
       "        vertical-align: top;\n",
       "    }\n",
       "\n",
       "    .dataframe thead th {\n",
       "        text-align: right;\n",
       "    }\n",
       "</style>\n",
       "<table border=\"1\" class=\"dataframe\">\n",
       "  <thead>\n",
       "    <tr style=\"text-align: right;\">\n",
       "      <th></th>\n",
       "      <th>age</th>\n",
       "      <th>fnlwgt</th>\n",
       "      <th>educational-num</th>\n",
       "      <th>capital-gain</th>\n",
       "      <th>capital-loss</th>\n",
       "      <th>hours-per-week</th>\n",
       "      <th>workclass</th>\n",
       "      <th>marital-status</th>\n",
       "      <th>occupation</th>\n",
       "      <th>relationship</th>\n",
       "      <th>race</th>\n",
       "      <th>gender</th>\n",
       "      <th>native-country</th>\n",
       "      <th>income</th>\n",
       "    </tr>\n",
       "  </thead>\n",
       "  <tbody>\n",
       "    <tr>\n",
       "      <th>age</th>\n",
       "      <td>1.000000</td>\n",
       "      <td>-0.069153</td>\n",
       "      <td>0.077823</td>\n",
       "      <td>0.120223</td>\n",
       "      <td>0.059494</td>\n",
       "      <td>0.155672</td>\n",
       "      <td>0.082498</td>\n",
       "      <td>-0.316478</td>\n",
       "      <td>-0.009175</td>\n",
       "      <td>-0.265008</td>\n",
       "      <td>0.020122</td>\n",
       "      <td>0.094998</td>\n",
       "      <td>-0.005496</td>\n",
       "      <td>0.264351</td>\n",
       "    </tr>\n",
       "    <tr>\n",
       "      <th>fnlwgt</th>\n",
       "      <td>-0.069153</td>\n",
       "      <td>1.000000</td>\n",
       "      <td>-0.036450</td>\n",
       "      <td>-0.006923</td>\n",
       "      <td>-0.001362</td>\n",
       "      <td>-0.021979</td>\n",
       "      <td>-0.038824</td>\n",
       "      <td>0.033450</td>\n",
       "      <td>-0.000998</td>\n",
       "      <td>0.009873</td>\n",
       "      <td>-0.019149</td>\n",
       "      <td>0.025380</td>\n",
       "      <td>-0.064308</td>\n",
       "      <td>-0.002783</td>\n",
       "    </tr>\n",
       "    <tr>\n",
       "      <th>educational-num</th>\n",
       "      <td>0.077823</td>\n",
       "      <td>-0.036450</td>\n",
       "      <td>1.000000</td>\n",
       "      <td>0.121058</td>\n",
       "      <td>0.080968</td>\n",
       "      <td>0.148851</td>\n",
       "      <td>0.045484</td>\n",
       "      <td>-0.064859</td>\n",
       "      <td>0.097949</td>\n",
       "      <td>-0.095698</td>\n",
       "      <td>0.027992</td>\n",
       "      <td>0.009579</td>\n",
       "      <td>0.077981</td>\n",
       "      <td>0.341304</td>\n",
       "    </tr>\n",
       "    <tr>\n",
       "      <th>capital-gain</th>\n",
       "      <td>0.120223</td>\n",
       "      <td>-0.006923</td>\n",
       "      <td>0.121058</td>\n",
       "      <td>1.000000</td>\n",
       "      <td>-0.067479</td>\n",
       "      <td>0.076805</td>\n",
       "      <td>0.014213</td>\n",
       "      <td>-0.059562</td>\n",
       "      <td>0.011372</td>\n",
       "      <td>-0.077749</td>\n",
       "      <td>0.021710</td>\n",
       "      <td>0.064354</td>\n",
       "      <td>0.011683</td>\n",
       "      <td>0.266354</td>\n",
       "    </tr>\n",
       "    <tr>\n",
       "      <th>capital-loss</th>\n",
       "      <td>0.059494</td>\n",
       "      <td>-0.001362</td>\n",
       "      <td>0.080968</td>\n",
       "      <td>-0.067479</td>\n",
       "      <td>1.000000</td>\n",
       "      <td>0.052074</td>\n",
       "      <td>0.005387</td>\n",
       "      <td>-0.036518</td>\n",
       "      <td>0.014121</td>\n",
       "      <td>-0.052846</td>\n",
       "      <td>0.018129</td>\n",
       "      <td>0.041914</td>\n",
       "      <td>0.006697</td>\n",
       "      <td>0.137506</td>\n",
       "    </tr>\n",
       "    <tr>\n",
       "      <th>hours-per-week</th>\n",
       "      <td>0.155672</td>\n",
       "      <td>-0.021979</td>\n",
       "      <td>0.148851</td>\n",
       "      <td>0.076805</td>\n",
       "      <td>0.052074</td>\n",
       "      <td>1.000000</td>\n",
       "      <td>0.048512</td>\n",
       "      <td>-0.182385</td>\n",
       "      <td>0.014992</td>\n",
       "      <td>-0.258799</td>\n",
       "      <td>0.041387</td>\n",
       "      <td>0.230601</td>\n",
       "      <td>0.007493</td>\n",
       "      <td>0.227048</td>\n",
       "    </tr>\n",
       "    <tr>\n",
       "      <th>workclass</th>\n",
       "      <td>0.082498</td>\n",
       "      <td>-0.038824</td>\n",
       "      <td>0.045484</td>\n",
       "      <td>0.014213</td>\n",
       "      <td>0.005387</td>\n",
       "      <td>0.048512</td>\n",
       "      <td>1.000000</td>\n",
       "      <td>-0.033646</td>\n",
       "      <td>0.017331</td>\n",
       "      <td>-0.064867</td>\n",
       "      <td>0.047925</td>\n",
       "      <td>0.069652</td>\n",
       "      <td>0.004043</td>\n",
       "      <td>0.015605</td>\n",
       "    </tr>\n",
       "    <tr>\n",
       "      <th>marital-status</th>\n",
       "      <td>-0.316478</td>\n",
       "      <td>0.033450</td>\n",
       "      <td>-0.064859</td>\n",
       "      <td>-0.059562</td>\n",
       "      <td>-0.036518</td>\n",
       "      <td>-0.182385</td>\n",
       "      <td>-0.033646</td>\n",
       "      <td>1.000000</td>\n",
       "      <td>0.016555</td>\n",
       "      <td>0.180848</td>\n",
       "      <td>-0.070114</td>\n",
       "      <td>-0.119993</td>\n",
       "      <td>-0.022089</td>\n",
       "      <td>-0.193587</td>\n",
       "    </tr>\n",
       "    <tr>\n",
       "      <th>occupation</th>\n",
       "      <td>-0.009175</td>\n",
       "      <td>-0.000998</td>\n",
       "      <td>0.097949</td>\n",
       "      <td>0.011372</td>\n",
       "      <td>0.014121</td>\n",
       "      <td>0.014992</td>\n",
       "      <td>0.017331</td>\n",
       "      <td>0.016555</td>\n",
       "      <td>1.000000</td>\n",
       "      <td>-0.051429</td>\n",
       "      <td>-0.001904</td>\n",
       "      <td>0.056734</td>\n",
       "      <td>-0.002208</td>\n",
       "      <td>0.049027</td>\n",
       "    </tr>\n",
       "    <tr>\n",
       "      <th>relationship</th>\n",
       "      <td>-0.265008</td>\n",
       "      <td>0.009873</td>\n",
       "      <td>-0.095698</td>\n",
       "      <td>-0.077749</td>\n",
       "      <td>-0.052846</td>\n",
       "      <td>-0.258799</td>\n",
       "      <td>-0.064867</td>\n",
       "      <td>0.180848</td>\n",
       "      <td>-0.051429</td>\n",
       "      <td>1.000000</td>\n",
       "      <td>-0.116770</td>\n",
       "      <td>-0.583752</td>\n",
       "      <td>-0.007196</td>\n",
       "      <td>-0.253460</td>\n",
       "    </tr>\n",
       "    <tr>\n",
       "      <th>race</th>\n",
       "      <td>0.020122</td>\n",
       "      <td>-0.019149</td>\n",
       "      <td>0.027992</td>\n",
       "      <td>0.021710</td>\n",
       "      <td>0.018129</td>\n",
       "      <td>0.041387</td>\n",
       "      <td>0.047925</td>\n",
       "      <td>-0.070114</td>\n",
       "      <td>-0.001904</td>\n",
       "      <td>-0.116770</td>\n",
       "      <td>1.000000</td>\n",
       "      <td>0.086378</td>\n",
       "      <td>0.119246</td>\n",
       "      <td>0.070131</td>\n",
       "    </tr>\n",
       "    <tr>\n",
       "      <th>gender</th>\n",
       "      <td>0.094998</td>\n",
       "      <td>0.025380</td>\n",
       "      <td>0.009579</td>\n",
       "      <td>0.064354</td>\n",
       "      <td>0.041914</td>\n",
       "      <td>0.230601</td>\n",
       "      <td>0.069652</td>\n",
       "      <td>-0.119993</td>\n",
       "      <td>0.056734</td>\n",
       "      <td>-0.583752</td>\n",
       "      <td>0.086378</td>\n",
       "      <td>1.000000</td>\n",
       "      <td>-0.003655</td>\n",
       "      <td>0.215756</td>\n",
       "    </tr>\n",
       "    <tr>\n",
       "      <th>native-country</th>\n",
       "      <td>-0.005496</td>\n",
       "      <td>-0.064308</td>\n",
       "      <td>0.077981</td>\n",
       "      <td>0.011683</td>\n",
       "      <td>0.006697</td>\n",
       "      <td>0.007493</td>\n",
       "      <td>0.004043</td>\n",
       "      <td>-0.022089</td>\n",
       "      <td>-0.002208</td>\n",
       "      <td>-0.007196</td>\n",
       "      <td>0.119246</td>\n",
       "      <td>-0.003655</td>\n",
       "      <td>1.000000</td>\n",
       "      <td>0.020075</td>\n",
       "    </tr>\n",
       "    <tr>\n",
       "      <th>income</th>\n",
       "      <td>0.264351</td>\n",
       "      <td>-0.002783</td>\n",
       "      <td>0.341304</td>\n",
       "      <td>0.266354</td>\n",
       "      <td>0.137506</td>\n",
       "      <td>0.227048</td>\n",
       "      <td>0.015605</td>\n",
       "      <td>-0.193587</td>\n",
       "      <td>0.049027</td>\n",
       "      <td>-0.253460</td>\n",
       "      <td>0.070131</td>\n",
       "      <td>0.215756</td>\n",
       "      <td>0.020075</td>\n",
       "      <td>1.000000</td>\n",
       "    </tr>\n",
       "  </tbody>\n",
       "</table>\n",
       "</div>"
      ],
      "text/plain": [
       "                      age    fnlwgt  educational-num  capital-gain  \\\n",
       "age              1.000000 -0.069153         0.077823      0.120223   \n",
       "fnlwgt          -0.069153  1.000000        -0.036450     -0.006923   \n",
       "educational-num  0.077823 -0.036450         1.000000      0.121058   \n",
       "capital-gain     0.120223 -0.006923         0.121058      1.000000   \n",
       "capital-loss     0.059494 -0.001362         0.080968     -0.067479   \n",
       "hours-per-week   0.155672 -0.021979         0.148851      0.076805   \n",
       "workclass        0.082498 -0.038824         0.045484      0.014213   \n",
       "marital-status  -0.316478  0.033450        -0.064859     -0.059562   \n",
       "occupation      -0.009175 -0.000998         0.097949      0.011372   \n",
       "relationship    -0.265008  0.009873        -0.095698     -0.077749   \n",
       "race             0.020122 -0.019149         0.027992      0.021710   \n",
       "gender           0.094998  0.025380         0.009579      0.064354   \n",
       "native-country  -0.005496 -0.064308         0.077981      0.011683   \n",
       "income           0.264351 -0.002783         0.341304      0.266354   \n",
       "\n",
       "                 capital-loss  hours-per-week  workclass  marital-status  \\\n",
       "age                  0.059494        0.155672   0.082498       -0.316478   \n",
       "fnlwgt              -0.001362       -0.021979  -0.038824        0.033450   \n",
       "educational-num      0.080968        0.148851   0.045484       -0.064859   \n",
       "capital-gain        -0.067479        0.076805   0.014213       -0.059562   \n",
       "capital-loss         1.000000        0.052074   0.005387       -0.036518   \n",
       "hours-per-week       0.052074        1.000000   0.048512       -0.182385   \n",
       "workclass            0.005387        0.048512   1.000000       -0.033646   \n",
       "marital-status      -0.036518       -0.182385  -0.033646        1.000000   \n",
       "occupation           0.014121        0.014992   0.017331        0.016555   \n",
       "relationship        -0.052846       -0.258799  -0.064867        0.180848   \n",
       "race                 0.018129        0.041387   0.047925       -0.070114   \n",
       "gender               0.041914        0.230601   0.069652       -0.119993   \n",
       "native-country       0.006697        0.007493   0.004043       -0.022089   \n",
       "income               0.137506        0.227048   0.015605       -0.193587   \n",
       "\n",
       "                 occupation  relationship      race    gender  native-country  \\\n",
       "age               -0.009175     -0.265008  0.020122  0.094998       -0.005496   \n",
       "fnlwgt            -0.000998      0.009873 -0.019149  0.025380       -0.064308   \n",
       "educational-num    0.097949     -0.095698  0.027992  0.009579        0.077981   \n",
       "capital-gain       0.011372     -0.077749  0.021710  0.064354        0.011683   \n",
       "capital-loss       0.014121     -0.052846  0.018129  0.041914        0.006697   \n",
       "hours-per-week     0.014992     -0.258799  0.041387  0.230601        0.007493   \n",
       "workclass          0.017331     -0.064867  0.047925  0.069652        0.004043   \n",
       "marital-status     0.016555      0.180848 -0.070114 -0.119993       -0.022089   \n",
       "occupation         1.000000     -0.051429 -0.001904  0.056734       -0.002208   \n",
       "relationship      -0.051429      1.000000 -0.116770 -0.583752       -0.007196   \n",
       "race              -0.001904     -0.116770  1.000000  0.086378        0.119246   \n",
       "gender             0.056734     -0.583752  0.086378  1.000000       -0.003655   \n",
       "native-country    -0.002208     -0.007196  0.119246 -0.003655        1.000000   \n",
       "income             0.049027     -0.253460  0.070131  0.215756        0.020075   \n",
       "\n",
       "                   income  \n",
       "age              0.264351  \n",
       "fnlwgt          -0.002783  \n",
       "educational-num  0.341304  \n",
       "capital-gain     0.266354  \n",
       "capital-loss     0.137506  \n",
       "hours-per-week   0.227048  \n",
       "workclass        0.015605  \n",
       "marital-status  -0.193587  \n",
       "occupation       0.049027  \n",
       "relationship    -0.253460  \n",
       "race             0.070131  \n",
       "gender           0.215756  \n",
       "native-country   0.020075  \n",
       "income           1.000000  "
      ]
     },
     "execution_count": 42,
     "metadata": {},
     "output_type": "execute_result"
    }
   ],
   "source": [
    "df_cleaned.corr()"
   ]
  },
  {
   "cell_type": "code",
   "execution_count": 43,
   "metadata": {},
   "outputs": [
    {
     "data": {
      "text/plain": [
       "<Axes: >"
      ]
     },
     "execution_count": 43,
     "metadata": {},
     "output_type": "execute_result"
    },
    {
     "data": {
      "image/png": "[encoded data removed]",
      "text/plain": [
       "<Figure size 640x480 with 2 Axes>"
      ]
     },
     "metadata": {},
     "output_type": "display_data"
    }
   ],
   "source": [
    "sns.heatmap(df_cleaned.corr())"
   ]
  },
  {
   "cell_type": "code",
   "execution_count": 44,
   "metadata": {},
   "outputs": [],
   "source": [
    "df_cleaned.to_csv('adult(cleaned).csv', index=False)"
   ]
  },
  {
   "cell_type": "code",
   "execution_count": 45,
   "metadata": {},
   "outputs": [
    {
     "data": {
      "text/html": [
       "<div>\n",
       "<style scoped>\n",
       "    .dataframe tbody tr th:only-of-type {\n",
       "        vertical-align: middle;\n",
       "    }\n",
       "\n",
       "    .dataframe tbody tr th {\n",
       "        vertical-align: top;\n",
       "    }\n",
       "\n",
       "    .dataframe thead th {\n",
       "        text-align: right;\n",
       "    }\n",
       "</style>\n",
       "<table border=\"1\" class=\"dataframe\">\n",
       "  <thead>\n",
       "    <tr style=\"text-align: right;\">\n",
       "      <th></th>\n",
       "      <th>age</th>\n",
       "      <th>fnlwgt</th>\n",
       "      <th>educational-num</th>\n",
       "      <th>capital-gain</th>\n",
       "      <th>capital-loss</th>\n",
       "      <th>hours-per-week</th>\n",
       "      <th>workclass</th>\n",
       "      <th>marital-status</th>\n",
       "      <th>occupation</th>\n",
       "      <th>relationship</th>\n",
       "      <th>race</th>\n",
       "      <th>gender</th>\n",
       "      <th>native-country</th>\n",
       "      <th>income</th>\n",
       "    </tr>\n",
       "  </thead>\n",
       "  <tbody>\n",
       "    <tr>\n",
       "      <th>46032</th>\n",
       "      <td>1.031842</td>\n",
       "      <td>0.982965</td>\n",
       "      <td>-0.484505</td>\n",
       "      <td>3.304983</td>\n",
       "      <td>-0.223015</td>\n",
       "      <td>-0.071814</td>\n",
       "      <td>3</td>\n",
       "      <td>2</td>\n",
       "      <td>3</td>\n",
       "      <td>5</td>\n",
       "      <td>4</td>\n",
       "      <td>0</td>\n",
       "      <td>38</td>\n",
       "      <td>1</td>\n",
       "    </tr>\n",
       "  </tbody>\n",
       "</table>\n",
       "</div>"
      ],
      "text/plain": [
       "            age    fnlwgt  educational-num  capital-gain  capital-loss  \\\n",
       "46032  1.031842  0.982965        -0.484505      3.304983     -0.223015   \n",
       "\n",
       "       hours-per-week  workclass  marital-status  occupation  relationship  \\\n",
       "46032       -0.071814          3               2           3             5   \n",
       "\n",
       "       race  gender  native-country  income  \n",
       "46032     4       0              38       1  "
      ]
     },
     "execution_count": 45,
     "metadata": {},
     "output_type": "execute_result"
    }
   ],
   "source": [
    "df_cleaned.tail(1)"
   ]
  },
  {
   "cell_type": "code",
   "execution_count": 46,
   "metadata": {},
   "outputs": [],
   "source": [
    "df_numeric = pd.DataFrame(df[numeric_columns], columns=numeric_columns)"
   ]
  },
  {
   "cell_type": "code",
   "execution_count": 47,
   "metadata": {},
   "outputs": [],
   "source": [
    "df_cleaned_non_normalized = pd.merge(df_numeric, df_object, left_index=True, right_index=True)\n",
    "df_cleaned_non_normalized.drop('education', inplace=True, axis = 1)"
   ]
  },
  {
   "cell_type": "code",
   "execution_count": 48,
   "metadata": {},
   "outputs": [],
   "source": [
    "df_cleaned_non_normalized.to_csv('adult(cleaned non normalized).csv', index=False)"
   ]
  },
  {
   "cell_type": "markdown",
   "metadata": {},
   "source": [
    "### All clean of skewness including encoded object columns"
   ]
  },
  {
   "cell_type": "code",
   "execution_count": 49,
   "metadata": {},
   "outputs": [],
   "source": [
    "df_object_fix_skewness = pd.DataFrame(pt.fit_transform(df_object), columns=object_columns)"
   ]
  },
  {
   "cell_type": "code",
   "execution_count": 50,
   "metadata": {},
   "outputs": [],
   "source": [
    "df_cleaned_all = pd.merge(df_numeric_fixed_skew, df_object_fix_skewness, left_index=True, right_index=True)"
   ]
  },
  {
   "cell_type": "code",
   "execution_count": 52,
   "metadata": {},
   "outputs": [],
   "source": [
    "df_cleaned_all.drop('education', inplace=True, axis = 1)"
   ]
  },
  {
   "cell_type": "code",
   "execution_count": 54,
   "metadata": {},
   "outputs": [],
   "source": [
    "df_cleaned_all.drop('income', inplace=True, axis = 1)"
   ]
  },
  {
   "cell_type": "code",
   "execution_count": 55,
   "metadata": {},
   "outputs": [],
   "source": [
    "df_cleaned_all = pd.merge(df_cleaned_all, df_cleaned['income'], left_index=True, right_index=True)"
   ]
  },
  {
   "cell_type": "code",
   "execution_count": 56,
   "metadata": {},
   "outputs": [],
   "source": [
    "df_cleaned_all.to_csv('adult(cleaned all column).csv', index=False)"
   ]
  },
  {
   "cell_type": "code",
   "execution_count": null,
   "metadata": {},
   "outputs": [],
   "source": []
  }
 ],
 "metadata": {
  "kernelspec": {
   "display_name": "Python 3",
   "language": "python",
   "name": "python3"
  },
  "language_info": {
   "codemirror_mode": {
    "name": "ipython",
    "version": 3
   },
   "file_extension": ".py",
   "mimetype": "text/x-python",
   "name": "python",
   "nbconvert_exporter": "python",
   "pygments_lexer": "ipython3",
   "version": "3.10.6"
  }
 },
 "nbformat": 4,
 "nbformat_minor": 2
}

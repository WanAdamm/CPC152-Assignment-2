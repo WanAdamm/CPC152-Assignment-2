{
 "cells": [
  {
   "cell_type": "markdown",
   "metadata": {},
   "source": [
    "### Imports"
   ]
  },
  {
   "cell_type": "code",
   "execution_count": 15,
   "metadata": {},
   "outputs": [],
   "source": [
    "import pandas as pd \n",
    "import numpy as np"
   ]
  },
  {
   "cell_type": "markdown",
   "metadata": {},
   "source": [
    "### Reading dataset"
   ]
  },
  {
   "cell_type": "code",
   "execution_count": 16,
   "metadata": {},
   "outputs": [],
   "source": [
    "df = pd.read_csv('adult.csv')"
   ]
  },
  {
   "cell_type": "markdown",
   "metadata": {},
   "source": [
    "### Dropping duplicates"
   ]
  },
  {
   "cell_type": "code",
   "execution_count": 17,
   "metadata": {},
   "outputs": [],
   "source": [
    "df.drop_duplicates(inplace=True)"
   ]
  },
  {
   "cell_type": "markdown",
   "metadata": {},
   "source": [
    "### Dropping NaN and replacing their value"
   ]
  },
  {
   "cell_type": "code",
   "execution_count": 18,
   "metadata": {},
   "outputs": [],
   "source": [
    "df.replace('?', np.nan, inplace= True)\n",
    "df.dropna(subset=['occupation'], inplace=True)\n",
    "\n",
    "native_country_mode = df['native-country'].mode()[0]\n",
    "df[['native-country']] = df[['native-country']].fillna(native_country_mode)"
   ]
  },
  {
   "cell_type": "markdown",
   "metadata": {},
   "source": [
    "### Fixing skewness of nummeric data"
   ]
  },
  {
   "cell_type": "code",
   "execution_count": 19,
   "metadata": {},
   "outputs": [],
   "source": [
    "numeric_columns = ['age', 'fnlwgt', 'educational-num', 'capital-gain', 'capital-loss', 'hours-per-week']"
   ]
  },
  {
   "cell_type": "code",
   "execution_count": 20,
   "metadata": {},
   "outputs": [],
   "source": [
    "from scipy.stats import yeojohnson\n",
    "from sklearn.preprocessing import PowerTransformer\n",
    "pt = PowerTransformer()\n",
    "df_numeric_fixed_skew = pd.DataFrame(pt.fit_transform(df[numeric_columns]), columns=numeric_columns)"
   ]
  },
  {
   "cell_type": "markdown",
   "metadata": {},
   "source": [
    "### Feature engineering"
   ]
  },
  {
   "cell_type": "code",
   "execution_count": 21,
   "metadata": {},
   "outputs": [],
   "source": [
    "# America\n",
    "df[\"native-country\"] = df[\"native-country\"].replace(['United-States'], 'US')\n",
    "\n",
    "# Europe\n",
    "df[\"native-country\"] = df[\"native-country\"].replace(['Greece','Holand-Netherlands','Poland',\"England\",\"Yugoslavia\",\n",
    "                                                        \"Germany\",\"Italy\",\"Ireland\",\"Hungary\",\"France\",\"Scotland\",\n",
    "                                                        \"Portugal\"], 'Europe')\n",
    "\n",
    "# Asia\n",
    "df[\"native-country\"] = df[\"native-country\"].replace(['Vietnam','China','Taiwan',\"India\",\"Philippines\",\"Japan\",\n",
    "                                                        \"Hong\",\"Cambodia\",\"Laos\",\"Thailand\"], 'Asia')\n",
    "\n",
    "# Others\n",
    "df[\"native-country\"] = df[\"native-country\"].replace(['Mexico','Trinadad&Tobago','Canada',\"Puerto-Rico\",\n",
    "                                                        \"Honduras\",\"Cuba\",\"Peru\",\"Nicaragua\",\"Dominican-Republic\",\n",
    "                                                        \"Haiti\",\"El-Salvador\",\"Columbia\",\"Guatemala\",\"Jamaica\",\"Ecuador\",\n",
    "                                                        \"Outlying-US(Guam-USVI-etc)\",\"Iran\"], 'Others')\n"
   ]
  },
  {
   "cell_type": "code",
   "execution_count": 22,
   "metadata": {},
   "outputs": [],
   "source": [
    "df[\"marital-status\"] = df[\"marital-status\"].replace(['Divorced','Separated','Widowed'], 'Single')\n",
    "df[\"marital-status\"] = df[\"marital-status\"].replace(['Married-civ-spouse','Married-spouse-absent',\n",
    "                                                         'Married-AF-spouse'], 'Married')"
   ]
  },
  {
   "cell_type": "code",
   "execution_count": 23,
   "metadata": {},
   "outputs": [],
   "source": [
    "df[\"relationship\"] = df[\"relationship\"].replace(['Not-in-family','Other-relative'], 'Separated')\n",
    "df[\"relationship\"] = df[\"relationship\"].replace(['Husband','Wife'], 'Married')\n",
    "df[\"relationship\"] = df[\"relationship\"].replace(['Unmarried','Own-child'], 'Single')"
   ]
  },
  {
   "cell_type": "code",
   "execution_count": 24,
   "metadata": {},
   "outputs": [],
   "source": [
    "df[\"race\"] = df[\"race\"].replace(['Asian-Pac-Islander','Amer-Indian-Eskimo','Other'], 'Other')"
   ]
  },
  {
   "cell_type": "code",
   "execution_count": 25,
   "metadata": {},
   "outputs": [],
   "source": [
    "df[\"workclass\"] = df[\"workclass\"].replace(['Self-emp-not-inc','Local-gov',\"State-gov\",\"Self-emp-inc\",\"Federal-gov\",\n",
    "                                              \"Without-pay\",\"Never-worked\"], 'govermental')"
   ]
  },
  {
   "cell_type": "code",
   "execution_count": 26,
   "metadata": {},
   "outputs": [],
   "source": [
    "df[\"education\"] = df[\"education\"].replace(['Prof-school',\"Assoc-acdm\",\"Assoc-voc\"], 'high-school')\n",
    "df[\"education\"] = df[\"education\"].replace(['Some-college','Doctorate','Bachelors',\"Masters\"], 'college')\n",
    "df[\"education\"] = df[\"education\"].replace(['7th-8th','10th','11th',\"1st-4th\",\"5th-6th\",\"12th\",\n",
    "                                              \"9th\",\"Preschool\"], 'pre-hs')\n"
   ]
  },
  {
   "cell_type": "markdown",
   "metadata": {},
   "source": [
    "### Encoding non-numerical data"
   ]
  },
  {
   "cell_type": "code",
   "execution_count": 27,
   "metadata": {},
   "outputs": [],
   "source": [
    "from sklearn.preprocessing import LabelEncoder\n",
    "\n",
    "le = LabelEncoder()\n",
    "\n",
    "df_object = df.select_dtypes(exclude=[np.number]).reset_index()\n",
    "df_object.drop('index', inplace=True, axis = 1)\n",
    "object_columns = [col for col in df_object.columns]\n",
    "\n",
    "for col in df_object:\n",
    "    df_object[col] = le.fit_transform(df_object[col])"
   ]
  },
  {
   "cell_type": "markdown",
   "metadata": {},
   "source": [
    "### Concatenating object and numeric data"
   ]
  },
  {
   "cell_type": "code",
   "execution_count": 28,
   "metadata": {},
   "outputs": [],
   "source": [
    "df_cleaned = pd.merge(df_numeric_fixed_skew, df_object, left_index=True, right_index=True)"
   ]
  },
  {
   "cell_type": "code",
   "execution_count": null,
   "metadata": {},
   "outputs": [],
   "source": []
  }
 ],
 "metadata": {
  "kernelspec": {
   "display_name": "Python 3",
   "language": "python",
   "name": "python3"
  },
  "language_info": {
   "codemirror_mode": {
    "name": "ipython",
    "version": 3
   },
   "file_extension": ".py",
   "mimetype": "text/x-python",
   "name": "python",
   "nbconvert_exporter": "python",
   "pygments_lexer": "ipython3",
   "version": "3.10.6"
  }
 },
 "nbformat": 4,
 "nbformat_minor": 2
}
